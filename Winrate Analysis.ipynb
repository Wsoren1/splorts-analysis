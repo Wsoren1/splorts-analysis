{
 "cells": [
  {
   "cell_type": "markdown",
   "metadata": {},
   "source": [
    "# The Great Win Rate Analysis"
   ]
  },
  {
   "cell_type": "markdown",
   "metadata": {},
   "source": [
    "This is an introductory project for me to learn how to do some stats analysis on blaseball, I want to understand how much correlation between the projected odds that are given in the game and the actual outcome there is.  "
   ]
  },
  {
   "cell_type": "markdown",
   "metadata": {},
   "source": [
    "This also is me trying to understand for the first time how to use a ton of tools that I have been learning all in one project, and if this works out, I will become the ultimate blaseball analyst."
   ]
  },
  {
   "cell_type": "code",
   "execution_count": 1,
   "metadata": {},
   "outputs": [
    {
     "name": "stdout",
     "output_type": "stream",
     "text": [
      "Getting Season: 1 Game: 0\n",
      "Getting Season: 1 Game: 10\n",
      "Getting Season: 1 Game: 20\n",
      "Getting Season: 1 Game: 30\n",
      "Getting Season: 1 Game: 40\n",
      "Getting Season: 1 Game: 50\n",
      "Getting Season: 1 Game: 60\n",
      "Getting Season: 1 Game: 70\n",
      "Getting Season: 1 Game: 80\n",
      "Getting Season: 1 Game: 90\n",
      "Getting Season: 2 Game: 0\n",
      "Getting Season: 2 Game: 10\n",
      "Getting Season: 2 Game: 20\n",
      "Getting Season: 2 Game: 30\n",
      "Getting Season: 2 Game: 40\n",
      "Getting Season: 2 Game: 50\n",
      "Getting Season: 2 Game: 60\n",
      "Getting Season: 2 Game: 70\n",
      "Getting Season: 2 Game: 80\n",
      "Getting Season: 2 Game: 90\n",
      "Getting Season: 3 Game: 0\n",
      "Getting Season: 3 Game: 10\n",
      "Getting Season: 3 Game: 20\n",
      "Getting Season: 3 Game: 30\n",
      "Getting Season: 3 Game: 40\n",
      "Getting Season: 3 Game: 50\n",
      "Getting Season: 3 Game: 60\n",
      "Getting Season: 3 Game: 70\n",
      "Getting Season: 3 Game: 80\n",
      "Getting Season: 3 Game: 90\n",
      "Getting Season: 4 Game: 0\n",
      "Getting Season: 4 Game: 10\n",
      "Getting Season: 4 Game: 20\n",
      "Getting Season: 4 Game: 30\n",
      "Getting Season: 4 Game: 40\n",
      "Getting Season: 4 Game: 50\n",
      "Getting Season: 4 Game: 60\n",
      "Getting Season: 4 Game: 70\n",
      "Getting Season: 4 Game: 80\n",
      "Getting Season: 4 Game: 90\n",
      "Getting Season: 5 Game: 0\n",
      "Getting Season: 5 Game: 10\n",
      "Getting Season: 5 Game: 20\n",
      "Getting Season: 5 Game: 30\n",
      "Getting Season: 5 Game: 40\n",
      "Getting Season: 5 Game: 50\n",
      "Getting Season: 5 Game: 60\n",
      "Getting Season: 5 Game: 70\n",
      "Getting Season: 5 Game: 80\n",
      "Getting Season: 5 Game: 90\n",
      "Getting Season: 6 Game: 0\n",
      "Getting Season: 6 Game: 10\n",
      "Getting Season: 6 Game: 20\n",
      "Getting Season: 6 Game: 30\n",
      "Getting Season: 6 Game: 40\n",
      "Getting Season: 6 Game: 50\n",
      "Getting Season: 6 Game: 60\n",
      "Getting Season: 6 Game: 70\n",
      "Getting Season: 6 Game: 80\n",
      "Getting Season: 6 Game: 90\n",
      "Getting Season: 7 Game: 0\n",
      "Getting Season: 7 Game: 10\n",
      "Getting Season: 7 Game: 20\n",
      "Getting Season: 7 Game: 30\n",
      "Getting Season: 7 Game: 40\n",
      "Getting Season: 7 Game: 50\n",
      "Getting Season: 7 Game: 60\n",
      "Getting Season: 7 Game: 70\n",
      "Getting Season: 7 Game: 80\n",
      "Getting Season: 7 Game: 90\n",
      "Getting Season: 8 Game: 0\n",
      "Getting Season: 8 Game: 10\n",
      "Getting Season: 8 Game: 20\n",
      "Getting Season: 8 Game: 30\n",
      "Getting Season: 8 Game: 40\n",
      "Getting Season: 8 Game: 50\n",
      "Getting Season: 8 Game: 60\n",
      "Getting Season: 8 Game: 70\n",
      "Getting Season: 8 Game: 80\n",
      "Getting Season: 8 Game: 90\n",
      "Getting Season: 9 Game: 0\n",
      "Getting Season: 9 Game: 10\n",
      "Getting Season: 9 Game: 20\n",
      "Getting Season: 9 Game: 30\n",
      "Getting Season: 9 Game: 40\n",
      "Getting Season: 9 Game: 50\n",
      "Getting Season: 9 Game: 60\n",
      "Getting Season: 9 Game: 70\n",
      "Getting Season: 9 Game: 80\n",
      "Getting Season: 9 Game: 90\n",
      "Getting Season: 10 Game: 0\n",
      "Getting Season: 10 Game: 10\n",
      "Getting Season: 10 Game: 20\n",
      "Getting Season: 10 Game: 30\n",
      "Getting Season: 10 Game: 40\n",
      "Getting Season: 10 Game: 50\n",
      "Getting Season: 10 Game: 60\n",
      "Getting Season: 10 Game: 70\n",
      "Getting Season: 10 Game: 80\n",
      "Getting Season: 10 Game: 90\n",
      "Getting Season: 11 Game: 0\n",
      "Getting Season: 11 Game: 10\n",
      "Getting Season: 11 Game: 20\n",
      "Getting Season: 11 Game: 30\n",
      "Getting Season: 11 Game: 40\n",
      "Getting Season: 11 Game: 50\n",
      "Getting Season: 11 Game: 60\n",
      "Getting Season: 11 Game: 70\n",
      "Getting Season: 11 Game: 80\n",
      "Getting Season: 11 Game: 90\n"
     ]
    }
   ],
   "source": [
    "from SiteManager import SiteManager\n",
    "import pandas as pd\n",
    "from time import sleep\n",
    "\n",
    "site = SiteManager()\n",
    "\n",
    "games = []\n",
    "\n",
    "for season in range(11):\n",
    "    for game in range(100):\n",
    "        if game % 10 == 0:\n",
    "            print(f'Getting Season: {season + 1} Game: {game}')\n",
    "                  \n",
    "        games.append(site.get_game(season, game))\n",
    "        sleep(0.1) # so the gods aren't angery\n",
    "        \n",
    "datablase = pd.concat(games)\n",
    "datablase.to_csv(\"the_big_datablase.csv\", index_label=False, index=False)\n"
   ]
  },
  {
   "cell_type": "markdown",
   "metadata": {},
   "source": [
    "Now we've got a decent sample size to work with!"
   ]
  },
  {
   "cell_type": "code",
   "execution_count": 11,
   "metadata": {},
   "outputs": [],
   "source": [
    "import matplotlib.pyplot as plt\n",
    "import numpy as np\n",
    "\n",
    "datablase = pd.read_csv(\"the_big_datablase.csv\")\n",
    "datablase = datablase[['awayOdds', 'homeOdds', 'winningTeam']]\n",
    "\n",
    "data = {\n",
    "    \n",
    "} # dataframes where key is probability value\n",
    "\n",
    "bins = 200\n",
    "\n",
    "for i in range(bins + 1):\n",
    "    data[i/bins] = datablase[np.abs((i / bins) - datablase['homeOdds']) < (1 / bins)]\n",
    "    datablase = datablase[~(np.abs((i / bins) - datablase['homeOdds']) < (1 / bins))]\n",
    "\n",
    "datablase = pd.read_csv(\"the_big_datablase.csv\")\n",
    "datablase = datablase[['awayOdds', 'homeOdds', 'winningTeam']]"
   ]
  },
  {
   "cell_type": "code",
   "execution_count": 15,
   "metadata": {
    "scrolled": false
   },
   "outputs": [
    {
     "data": {
      "text/plain": [
       "True"
      ]
     },
     "execution_count": 15,
     "metadata": {},
     "output_type": "execute_result"
    }
   ],
   "source": [
    "len(datablase) == sum([len(data[partition]) for partition in data])"
   ]
  },
  {
   "cell_type": "code",
   "execution_count": 22,
   "metadata": {},
   "outputs": [
    {
     "data": {
      "image/png": "[encoded data removed]",
      "text/plain": [
       "<Figure size 432x288 with 1 Axes>"
      ]
     },
     "metadata": {
      "needs_background": "light"
     },
     "output_type": "display_data"
    }
   ],
   "source": [
    "x = []\n",
    "y = []\n",
    "\n",
    "for partition_value in data:\n",
    "    games = data[partition_value]\n",
    "    if len(games) == 0:\n",
    "        continue\n",
    "    \n",
    "    games_won = len(games[games['winningTeam'] == 'home'])\n",
    "    games_lost = len(games) - games_won\n",
    "    \n",
    "    mu = games_won / len(games)\n",
    "    y.append(mu)\n",
    "    x.append(partition_value)\n",
    "\n",
    "plt.scatter(x, y)\n",
    "plt.title('Win Rate at Odds vs. Prediction of Odds (Seasons 1 - 12)')\n",
    "plt.xlabel('P(x): Predicted Odds Probability')\n",
    "plt.ylabel('P(y): Win Rate Probability')\n",
    "plt.axline((0, 0), (1, 1), dashes=(4, 1, 4, 1), label='P(x) = P(y)')\n",
    "plt.legend()\n",
    "plt.savefig(\"win_rate_vs_prediction.jpg\", dpi=200)\n",
    "plt.show()"
   ]
  }
 ],
 "metadata": {
  "kernelspec": {
   "display_name": "Python 3",
   "language": "python",
   "name": "python3"
  },
  "language_info": {
   "codemirror_mode": {
    "name": "ipython",
    "version": 3
   },
   "file_extension": ".py",
   "mimetype": "text/x-python",
   "name": "python",
   "nbconvert_exporter": "python",
   "pygments_lexer": "ipython3",
   "version": "3.8.3"
  }
 },
 "nbformat": 4,
 "nbformat_minor": 4
}
